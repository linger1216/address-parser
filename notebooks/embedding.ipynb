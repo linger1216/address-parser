{
 "cells": [
  {
   "cell_type": "code",
   "execution_count": 3,
   "metadata": {},
   "outputs": [],
   "source": [
    "import numpy as np\n",
    "import torch\n",
    "import torch.nn as nn\n",
    "import pickle"
   ]
  },
  {
   "cell_type": "code",
   "execution_count": 6,
   "metadata": {},
   "outputs": [
    {
     "name": "stdout",
     "output_type": "stream",
     "text": [
      "input_data.shape {torch.Size([2, 50])}\n",
      "Embedding(18109, 300)\n",
      "torch.Size([2, 50, 300])\n"
     ]
    }
   ],
   "source": [
    "\n",
    "with open('../input/vocab.pk', 'rb') as f:\n",
    "  vocabulary = pickle.load(f)\n",
    "\n",
    "word_vectors_path = '../input/embedding.npy'\n",
    "word_vectors = np.load(word_vectors_path)\n",
    "word_vectors_tensor = torch.tensor(word_vectors, dtype=torch.float32)\n",
    "\n",
    "text_input = [\"天地一家春\", \"天地一家春哈瑟\"]\n",
    "tokens = []\n",
    "for text in text_input:\n",
    "  ids = [vocabulary.get(token, 0) for token in text]\n",
    "  # 使用填充来确保序列具有相同的长度\n",
    "  ids += [0] * (50 - len(ids))\n",
    "  tokens.append(ids)\n",
    "input_data = torch.tensor(tokens, dtype=torch.int64)\n",
    "print(f'input_data.shape', {input_data.shape})\n",
    "embedding = nn.Embedding.from_pretrained(word_vectors_tensor)\n",
    "print(embedding)\n",
    "embedded = embedding(input_data)\n",
    "print(embedded.shape)"
   ]
  }
 ],
 "metadata": {
  "kernelspec": {
   "display_name": "ml",
   "language": "python",
   "name": "python3"
  },
  "language_info": {
   "codemirror_mode": {
    "name": "ipython",
    "version": 3
   },
   "file_extension": ".py",
   "mimetype": "text/x-python",
   "name": "python",
   "nbconvert_exporter": "python",
   "pygments_lexer": "ipython3",
   "version": "3.8.18"
  }
 },
 "nbformat": 4,
 "nbformat_minor": 2
}
