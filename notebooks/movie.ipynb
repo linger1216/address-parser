{
 "cells": [
  {
   "cell_type": "code",
   "execution_count": 83,
   "metadata": {},
   "outputs": [],
   "source": [
    "import pandas as pd\n",
    "import numpy as np"
   ]
  },
  {
   "cell_type": "code",
   "execution_count": 84,
   "metadata": {},
   "outputs": [],
   "source": [
    "movies = pd.read_csv('../input/movies.csv')"
   ]
  },
  {
   "cell_type": "code",
   "execution_count": 85,
   "metadata": {},
   "outputs": [
    {
     "name": "stdout",
     "output_type": "stream",
     "text": [
      "<class 'pandas.core.frame.DataFrame'>\n",
      "RangeIndex: 1000 entries, 0 to 999\n",
      "Data columns (total 21 columns):\n",
      " #   Column         Non-Null Count  Dtype  \n",
      "---  ------         --------------  -----  \n",
      " 0   MOVIE_ID       1000 non-null   int64  \n",
      " 1   NAME           1000 non-null   object \n",
      " 2   ALIAS          261 non-null    object \n",
      " 3   ACTORS         465 non-null    object \n",
      " 4   COVER          41 non-null     object \n",
      " 5   DIRECTORS      663 non-null    object \n",
      " 6   DOUBAN_SCORE   1000 non-null   float64\n",
      " 7   DOUBAN_VOTES   1000 non-null   int64  \n",
      " 8   GENRES         1000 non-null   object \n",
      " 9   IMDB_ID        634 non-null    object \n",
      " 10  LANGUAGES      796 non-null    object \n",
      " 11  MINS           1000 non-null   int64  \n",
      " 12  OFFICIAL_SITE  21 non-null     object \n",
      " 13  REGIONS        1000 non-null   object \n",
      " 14  RELEASE_DATE   83 non-null     object \n",
      " 15  SLUG           1000 non-null   object \n",
      " 16  STORYLINE      851 non-null    object \n",
      " 17  TAGS           737 non-null    object \n",
      " 18  YEAR           1000 non-null   int64  \n",
      " 19  ACTOR_IDS      465 non-null    object \n",
      " 20  DIRECTOR_IDS   663 non-null    object \n",
      "dtypes: float64(1), int64(4), object(16)\n",
      "memory usage: 164.2+ KB\n"
     ]
    }
   ],
   "source": [
    "movies.info()"
   ]
  },
  {
   "cell_type": "code",
   "execution_count": 86,
   "metadata": {},
   "outputs": [
    {
     "name": "stdout",
     "output_type": "stream",
     "text": [
      "movies: 1000\n"
     ]
    }
   ],
   "source": [
    "titles = ['MOVIE_ID', 'NAME', 'GENRES', 'LANGUAGES', 'REGIONS', 'STORYLINE', 'TAGS', 'YEAR']\n",
    "movies = movies.loc[:, titles]\n",
    "print(f'movies: {len(movies)}')"
   ]
  },
  {
   "cell_type": "code",
   "execution_count": 87,
   "metadata": {},
   "outputs": [
    {
     "name": "stdout",
     "output_type": "stream",
     "text": [
      "dropna movies: 1000\n"
     ]
    }
   ],
   "source": [
    "#删除含有 NaN 的行\n",
    "movies.dropna(axis=0)\n",
    "print(f'dropna movies: {len(movies)}')"
   ]
  },
  {
   "cell_type": "code",
   "execution_count": 88,
   "metadata": {},
   "outputs": [
    {
     "name": "stdout",
     "output_type": "stream",
     "text": [
      "notna movies: 737\n"
     ]
    }
   ],
   "source": [
    "movies = movies[movies['TAGS'].notna()]\n",
    "print(f'notna movies: {len(movies)}')"
   ]
  },
  {
   "cell_type": "code",
   "execution_count": 90,
   "metadata": {},
   "outputs": [
    {
     "data": {
      "text/html": [
       "<div>\n",
       "<style scoped>\n",
       "    .dataframe tbody tr th:only-of-type {\n",
       "        vertical-align: middle;\n",
       "    }\n",
       "\n",
       "    .dataframe tbody tr th {\n",
       "        vertical-align: top;\n",
       "    }\n",
       "\n",
       "    .dataframe thead th {\n",
       "        text-align: right;\n",
       "    }\n",
       "</style>\n",
       "<table border=\"1\" class=\"dataframe\">\n",
       "  <thead>\n",
       "    <tr style=\"text-align: right;\">\n",
       "      <th></th>\n",
       "      <th>MOVIE_ID</th>\n",
       "      <th>NAME</th>\n",
       "      <th>GENRES</th>\n",
       "      <th>LANGUAGES</th>\n",
       "      <th>REGIONS</th>\n",
       "      <th>STORYLINE</th>\n",
       "      <th>TAGS</th>\n",
       "      <th>YEAR</th>\n",
       "    </tr>\n",
       "  </thead>\n",
       "  <tbody>\n",
       "    <tr>\n",
       "      <th>0</th>\n",
       "      <td>26670818</td>\n",
       "      <td>情定河州</td>\n",
       "      <td>剧情/爱情</td>\n",
       "      <td>汉语普通话</td>\n",
       "      <td>中国大陆</td>\n",
       "      <td>电影《情定临夏天使然》讲述临夏新一代青年人发奋图强、借助国家一带一路战略励志创业的故事。</td>\n",
       "      <td>甘肃/临夏/伊斯兰/中国/2016/中国大陆/烂片/宣传伊斯兰教的电影</td>\n",
       "      <td>2049</td>\n",
       "    </tr>\n",
       "    <tr>\n",
       "      <th>1</th>\n",
       "      <td>25815002</td>\n",
       "      <td>我不是李小龙</td>\n",
       "      <td>动作/爱情</td>\n",
       "      <td>汉语普通话</td>\n",
       "      <td>中国大陆</td>\n",
       "      <td>桀骜不驯的如龙武功高强，在一场比赛中，被打成重伤，被诊今生不能再用功夫。女友荆兰为激发他重新...</td>\n",
       "      <td>穿越/华语</td>\n",
       "      <td>2049</td>\n",
       "    </tr>\n",
       "    <tr>\n",
       "      <th>3</th>\n",
       "      <td>26695995</td>\n",
       "      <td>绿毛水怪</td>\n",
       "      <td>爱情</td>\n",
       "      <td>汉语普通话</td>\n",
       "      <td>中国大陆</td>\n",
       "      <td>王小波经典中篇小说《绿毛水怪》将改编电影。《绿毛水怪》是王小波早期手稿作品，以天马行空的想象...</td>\n",
       "      <td>小波/王小波/爱情/小说改编/文学改编/剧情/中国/2017</td>\n",
       "      <td>2049</td>\n",
       "    </tr>\n",
       "    <tr>\n",
       "      <th>5</th>\n",
       "      <td>6389523</td>\n",
       "      <td>天地无用</td>\n",
       "      <td>剧情/爱情</td>\n",
       "      <td>汉语普通话 / 法语</td>\n",
       "      <td>中国大陆 / 法国</td>\n",
       "      <td>张凡夕筹划中电影长片。</td>\n",
       "      <td>张凡夕/独立电影/人性/独立/上映</td>\n",
       "      <td>2046</td>\n",
       "    </tr>\n",
       "    <tr>\n",
       "      <th>6</th>\n",
       "      <td>26266621</td>\n",
       "      <td>看不见的脸</td>\n",
       "      <td>悬疑</td>\n",
       "      <td>汉语普通话</td>\n",
       "      <td>中国大陆</td>\n",
       "      <td>日本推理作家东野圭吾的小说在其本国不断被搬上大银幕，如今，中国电影公司也在推理小说领域跃跃欲...</td>\n",
       "      <td>悬疑/漫画小说真人版/日本/推理/日本电影/小说改编</td>\n",
       "      <td>2045</td>\n",
       "    </tr>\n",
       "  </tbody>\n",
       "</table>\n",
       "</div>"
      ],
      "text/plain": [
       "   MOVIE_ID    NAME GENRES   LANGUAGES    REGIONS  \\\n",
       "0  26670818    情定河州  剧情/爱情       汉语普通话       中国大陆   \n",
       "1  25815002  我不是李小龙  动作/爱情       汉语普通话       中国大陆   \n",
       "3  26695995    绿毛水怪     爱情       汉语普通话       中国大陆   \n",
       "5   6389523    天地无用  剧情/爱情  汉语普通话 / 法语  中国大陆 / 法国   \n",
       "6  26266621   看不见的脸     悬疑       汉语普通话       中国大陆   \n",
       "\n",
       "                                           STORYLINE  \\\n",
       "0       电影《情定临夏天使然》讲述临夏新一代青年人发奋图强、借助国家一带一路战略励志创业的故事。   \n",
       "1  桀骜不驯的如龙武功高强，在一场比赛中，被打成重伤，被诊今生不能再用功夫。女友荆兰为激发他重新...   \n",
       "3  王小波经典中篇小说《绿毛水怪》将改编电影。《绿毛水怪》是王小波早期手稿作品，以天马行空的想象...   \n",
       "5                                        张凡夕筹划中电影长片。   \n",
       "6  日本推理作家东野圭吾的小说在其本国不断被搬上大银幕，如今，中国电影公司也在推理小说领域跃跃欲...   \n",
       "\n",
       "                                  TAGS  YEAR  \n",
       "0  甘肃/临夏/伊斯兰/中国/2016/中国大陆/烂片/宣传伊斯兰教的电影  2049  \n",
       "1                                穿越/华语  2049  \n",
       "3       小波/王小波/爱情/小说改编/文学改编/剧情/中国/2017  2049  \n",
       "5                    张凡夕/独立电影/人性/独立/上映  2046  \n",
       "6           悬疑/漫画小说真人版/日本/推理/日本电影/小说改编  2045  "
      ]
     },
     "execution_count": 90,
     "metadata": {},
     "output_type": "execute_result"
    }
   ],
   "source": [
    "movies.head()"
   ]
  }
 ],
 "metadata": {
  "kernelspec": {
   "display_name": "address-parse",
   "language": "python",
   "name": "python3"
  },
  "language_info": {
   "codemirror_mode": {
    "name": "ipython",
    "version": 3
   },
   "file_extension": ".py",
   "mimetype": "text/x-python",
   "name": "python",
   "nbconvert_exporter": "python",
   "pygments_lexer": "ipython3",
   "version": "3.8.19"
  }
 },
 "nbformat": 4,
 "nbformat_minor": 2
}
