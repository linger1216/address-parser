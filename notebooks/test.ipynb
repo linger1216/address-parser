{
 "cells": [
  {
   "cell_type": "code",
   "execution_count": 2,
   "metadata": {},
   "outputs": [
    {
     "name": "stdout",
     "output_type": "stream",
     "text": [
      "原始数组: [1, 2, 3, 0, 5, 0, 0, 0]\n",
      "去掉尾部连续填充的padding_value后的数组: [1, 2, 3, 0, 5]\n"
     ]
    }
   ],
   "source": [
    "def remove_trailing_padding(a, padding_value):\n",
    "    # 从末尾开始找到第一个不是padding_value的元素的位置\n",
    "    index = next((i for i, value in enumerate(reversed(a)) if value != padding_value), len(a))\n",
    "    \n",
    "    # 返回截取后的数组\n",
    "    return a[:-index] if index > 0 else a\n",
    "\n",
    "# 示例数组\n",
    "a = [1, 2, 3, 0, 5, 0, 0, 0]\n",
    "\n",
    "# 填充值\n",
    "padding_value = 0\n",
    "\n",
    "# 去掉尾部连续填充的padding_value\n",
    "result = remove_trailing_padding(a, padding_value)\n",
    "\n",
    "print(\"原始数组:\", a)\n",
    "print(\"去掉尾部连续填充的padding_value后的数组:\", result)\n"
   ]
  }
 ],
 "metadata": {
  "kernelspec": {
   "display_name": "d2l",
   "language": "python",
   "name": "python3"
  },
  "language_info": {
   "codemirror_mode": {
    "name": "ipython",
    "version": 3
   },
   "file_extension": ".py",
   "mimetype": "text/x-python",
   "name": "python",
   "nbconvert_exporter": "python",
   "pygments_lexer": "ipython3",
   "version": "3.8.18"
  }
 },
 "nbformat": 4,
 "nbformat_minor": 2
}
