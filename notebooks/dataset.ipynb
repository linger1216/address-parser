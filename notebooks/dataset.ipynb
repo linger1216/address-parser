{
 "cells": [
  {
   "cell_type": "code",
   "execution_count": 1,
   "metadata": {},
   "outputs": [
    {
     "name": "stdout",
     "output_type": "stream",
     "text": [
      "44049\n"
     ]
    }
   ],
   "source": [
    "import json\n",
    "\n",
    "with open('../input/train.json', 'r') as file:\n",
    "    # 从文件中加载数据\n",
    "    data = json.load(file)\n",
    "print(len(data))\n",
    "train_5k = data[:5000]\n",
    "with open('../input/train_5k.json', 'w') as outfile:\n",
    "    json.dump(train_5k, outfile, ensure_ascii=False)"
   ]
  },
  {
   "cell_type": "code",
   "execution_count": 4,
   "metadata": {},
   "outputs": [],
   "source": [
    "\"\"\"\n",
    "分割文件\n",
    "\n",
    "\"\"\"\n",
    "\n",
    "# 打开 JSON 文件\n",
    "with open('../input/test_full.json', 'r') as file:\n",
    "    # 从文件中加载数据\n",
    "    data = json.load(file)\n",
    "\n",
    "# 提取前 3000 条数据\n",
    "eval_data = data[:3000]\n",
    "\n",
    "# 将提取的数据保存到新的 JSON 文件中\n",
    "with open('../input/eval.json', 'w') as outfile:\n",
    "    json.dump(eval_data, outfile, ensure_ascii=False)\n",
    "\n",
    "\n",
    "test_data = data[3000:]\n",
    "\n",
    "# 将提取的数据保存到新的 JSON 文件中\n",
    "with open('../input/test.json', 'w') as outfile:\n",
    "    json.dump(test_data, outfile, ensure_ascii=False)\n",
    "\n"
   ]
  },
  {
   "cell_type": "code",
   "execution_count": 3,
   "metadata": {},
   "outputs": [
    {
     "name": "stdout",
     "output_type": "stream",
     "text": [
      "{'text': '山东省单谢集乡袁新庄行政村大朱庄0000号', 'tokens': [['山', 'B-province'], ['东', 'I-province'], ['省', 'E-province'], ['单', 'S-district'], ['谢', 'B-poiCollection'], ['集', 'I-poiCollection'], ['乡', 'E-poiCollection'], ['袁', 'B-village'], ['新', 'I-village'], ['庄', 'I-village'], ['行', 'I-village'], ['政', 'I-village'], ['村', 'E-village'], ['大', 'B-poiCollection'], ['朱', 'I-poiCollection'], ['庄', 'E-poiCollection'], ['0', 'B-building'], ['0', 'I-building'], ['0', 'I-building'], ['0', 'I-building'], ['号', 'E-building']]}\n",
      "done\n"
     ]
    }
   ],
   "source": [
    "\"\"\"\n",
    "查账标注标签\n",
    "\n",
    "\"\"\"\n",
    "\n",
    "with open('../input/eval.json', 'r') as file:\n",
    "    # 从文件中加载数据\n",
    "    data = json.load(file)\n",
    "\n",
    "labels = ['B-incomplete', 'E-incomplete', 'S-district']\n",
    "\n",
    "for i in range(len(data)):\n",
    "  for token in data[i]['tokens']:\n",
    "    if token[1] in labels:\n",
    "      print(data[i])\n",
    "\n",
    "print('done')\n"
   ]
  },
  {
   "cell_type": "code",
   "execution_count": 4,
   "metadata": {},
   "outputs": [
    {
     "name": "stdout",
     "output_type": "stream",
     "text": [
      "done\n"
     ]
    }
   ],
   "source": [
    "\"\"\"\n",
    "删除指定标注带标签的数据\n",
    "\n",
    "\"\"\"\n",
    "\n",
    "with open('../input/eval.json', 'r') as file:\n",
    "    # 从文件中加载数据\n",
    "    data = json.load(file)\n",
    "\n",
    "labels = ['B-incomplete', 'E-incomplete', 'S-district']\n",
    "new_datas = []\n",
    "for i in range(len(data)):\n",
    "  new_datas.append(data[i])\n",
    "  for token in data[i]['tokens']:\n",
    "    if token[1] in labels:\n",
    "      new_datas.pop()\n",
    "      break\n",
    "\n",
    "with open('../input/eval_clean.json', 'w') as outfile:\n",
    "    json.dump(new_datas, outfile, ensure_ascii=False)\n",
    "    \n",
    "print('done')\n"
   ]
  },
  {
   "cell_type": "code",
   "execution_count": 2,
   "metadata": {},
   "outputs": [],
   "source": [
    "import os\n",
    "def generate_output_file(input_file):\n",
    "  # 获取文件路径和文件名\n",
    "  file_path, file_name = os.path.split(input_file)\n",
    "  # 获取文件名和扩展名\n",
    "  file_name_no_ext, extension = os.path.splitext(file_name)\n",
    "  # 组合新文件名\n",
    "  output_file = f\"{file_name_no_ext}_ok{extension}\"\n",
    "  # 组合新文件路径\n",
    "  output_file_path = os.path.join(file_path, output_file)\n",
    "  return output_file_path"
   ]
  },
  {
   "cell_type": "code",
   "execution_count": 3,
   "metadata": {},
   "outputs": [
    {
     "name": "stdout",
     "output_type": "stream",
     "text": [
      "handle: ../input/linan/train-config_linan_住房-业务-2k-first-0311.json\n",
      "all: 80191, success: 79140, error1: 0, error2: 1051, error3: 0\n",
      "handle: ../input/linan/验证格式-住房-业务-2k-second-0311.json\n",
      "all: 1999, success: 1999, error1: 0, error2: 0, error3: 0\n",
      "handle: ../input/test.json\n",
      "all: 5330, success: 5330, error1: 0, error2: 0, error3: 0\n",
      "done\n"
     ]
    }
   ],
   "source": [
    "\"\"\"\n",
    "删除非法长度的数据\n",
    "1. text和label不一致\n",
    "2. text长度超过50 or label长度超过50\n",
    "3. 有不认识的label\n",
    "\n",
    "\"\"\"\n",
    "\n",
    "import json\n",
    "\n",
    "files = ['../input/linan/train-config_linan_住房-业务-2k-first-0311.json', '../input/linan/验证格式-住房-业务-2k-second-0311.json', '../input/test.json']\n",
    "unknow_labels = ['B-incomplete', 'E-incomplete', 'S-district']\n",
    "\n",
    "for file in files:\n",
    "  error1 = 0\n",
    "  error2 = 0\n",
    "  error3 = 0\n",
    "  print(f'handle: {file}')\n",
    "\n",
    "  with open(file, 'r') as f:\n",
    "    data = json.load(f)\n",
    "\n",
    "  new_data = []\n",
    "  for i in range(len(data)):\n",
    "    token_length = len(data[i][\"tokens\"])\n",
    "    text_length = len(data[i][\"text\"])\n",
    "\n",
    "    if token_length != text_length:\n",
    "      # print(f'length not equal: {data[i][\"text\"]} {data[i][\"tokens\"]}')\n",
    "      error1+=1\n",
    "      continue\n",
    "    \n",
    "    if token_length > 50 or text_length > 50:\n",
    "      # print(f'length not equal: {data[i][\"text\"]} {data[i][\"tokens\"]}')\n",
    "      error2+=1\n",
    "      continue\n",
    "    \n",
    "    found_unknow_label = False\n",
    "    for token in data[i]['tokens']:\n",
    "      if token[1] in unknow_labels:\n",
    "        # print(f'unknow label: {data[i][\"text\"]} {data[i][\"tokens\"]}')\n",
    "        found_unknow_label = True\n",
    "        break\n",
    "\n",
    "    if found_unknow_label:\n",
    "      error3+=1\n",
    "      continue\n",
    "\n",
    "    new_data.append(data[i])\n",
    "\n",
    "  print(f'all: {len(data)}, success: {len(new_data)}, error1: {error1}, error2: {error2}, error3: {error3}')\n",
    "\n",
    "  out_file = generate_output_file(file)\n",
    "  with open(out_file, 'w') as f:\n",
    "    json.dump(new_data, f, ensure_ascii=False)\n",
    "\n",
    "print('done')"
   ]
  }
 ],
 "metadata": {
  "kernelspec": {
   "display_name": "d2l",
   "language": "python",
   "name": "python3"
  },
  "language_info": {
   "codemirror_mode": {
    "name": "ipython",
    "version": 3
   },
   "file_extension": ".py",
   "mimetype": "text/x-python",
   "name": "python",
   "nbconvert_exporter": "python",
   "pygments_lexer": "ipython3",
   "version": "3.8.18"
  }
 },
 "nbformat": 4,
 "nbformat_minor": 2
}
