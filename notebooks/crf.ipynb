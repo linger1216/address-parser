{
 "cells": [
  {
   "cell_type": "markdown",
   "metadata": {},
   "source": [
    "```\n",
    "计算CRF的前向传播，包括计算序列的分数和损失。\n",
    "\n",
    "参数：\n",
    "  emissions (Tensor): 模型的输出张量，形状为 (batch_size, seq_len, num_tags)。\n",
    "                      每个元素是发射到对应标签的分数。\n",
    "  tags (Tensor, optional): 真实的标签序列张量，形状为 (batch_size, seq_len)。\n",
    "                            如果未提供，则只计算分数而不计算损失。\n",
    "  mask (ByteTensor, optional): 掩码张量，形状为 (batch_size, seq_len)。\n",
    "                                表示序列的有效长度。如果未提供，则假定序列长度为 seq_len。\n",
    "  reduction (str, optional): 损失的缩减方式。可选值为 'sum', 'mean', 'none'。\n",
    "                              'sum' 表示将所有损失求和，'mean' 表示计算损失的均值，\n",
    "                              'none' 表示不进行缩减。\n",
    "```"
   ]
  },
  {
   "cell_type": "code",
   "execution_count": 1,
   "metadata": {},
   "outputs": [],
   "source": [
    "import torch\n",
    "from torchcrf import CRF"
   ]
  },
  {
   "cell_type": "code",
   "execution_count": 2,
   "metadata": {},
   "outputs": [],
   "source": [
    "num_tags = 5\n",
    "model = CRF(num_tags)"
   ]
  },
  {
   "cell_type": "code",
   "execution_count": 3,
   "metadata": {},
   "outputs": [
    {
     "name": "stderr",
     "output_type": "stream",
     "text": [
      "/Users/lid/opt/anaconda3/envs/d2l/lib/python3.8/site-packages/torchcrf/__init__.py:249: UserWarning: where received a uint8 condition tensor. This behavior is deprecated and will be removed in a future version of PyTorch. Use a boolean condition instead. (Triggered internally at /Users/runner/work/pytorch/pytorch/pytorch/aten/src/ATen/native/TensorCompare.cpp:519.)\n",
      "  score = torch.where(mask[i].unsqueeze(1), next_score, score)\n"
     ]
    },
    {
     "data": {
      "text/plain": [
       "tensor(-12.0168, grad_fn=<SumBackward0>)"
      ]
     },
     "execution_count": 3,
     "metadata": {},
     "output_type": "execute_result"
    }
   ],
   "source": [
    "seq_length = 3  # maximum sequence length in a batch\n",
    "batch_size = 2  # number of samples in the batch\n",
    "emissions = torch.randn(seq_length, batch_size, num_tags)\n",
    "tags = torch.tensor([\n",
    "  [0, 1], [2, 4], [3, 1]\n",
    "], dtype=torch.long)  # (seq_length, batch_size)\n",
    "model(emissions, tags)"
   ]
  }
 ],
 "metadata": {
  "kernelspec": {
   "display_name": "d2l",
   "language": "python",
   "name": "python3"
  },
  "language_info": {
   "codemirror_mode": {
    "name": "ipython",
    "version": 3
   },
   "file_extension": ".py",
   "mimetype": "text/x-python",
   "name": "python",
   "nbconvert_exporter": "python",
   "pygments_lexer": "ipython3",
   "version": "3.8.18"
  }
 },
 "nbformat": 4,
 "nbformat_minor": 2
}
